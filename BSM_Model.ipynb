{
 "cells": [
  {
   "cell_type": "markdown",
   "metadata": {},
   "source": [
    "# Black-Scholes Options Pricing calculator"
   ]
  },
  {
   "cell_type": "markdown",
   "metadata": {},
   "source": [
    "Developed in 1973 by Fischer Black, Robert Merton, and Myron Scholes, the Black-Scholes model was the first widely used mathematical method to calculate the theoretical value of an option contract, using current stock prices, expected dividends, the option's strike price, expected interest rates, time to expiration, and expected volatility."
   ]
  },
  {
   "cell_type": "markdown",
   "metadata": {},
   "source": [
    "### Import dependencies"
   ]
  },
  {
   "cell_type": "code",
   "execution_count": null,
   "metadata": {},
   "outputs": [],
   "source": [
    "import numpy as np\n",
    "from scipy.stats import norm\n",
    "import matplotlib.pyplot as plt"
   ]
  },
  {
   "cell_type": "markdown",
   "metadata": {},
   "source": [
    "### User-defined Class and Functions"
   ]
  },
  {
   "cell_type": "markdown",
   "metadata": {},
   "source": [
    " The Black-Scholes model makes certain assumptions:\n",
    "\n",
    "    No dividends are paid out during the life of the option.\n",
    "    Markets are random, and cannot be predicted\n",
    "    There are no transaction costs in buying the option.\n",
    "    The risk-free rate and volatility of the underlying asset are known and constant.\n",
    "    The returns of the underlying asset are normally distributed.\n",
    "    The option is European and can only be exercised at expiration."
   ]
  },
  {
   "cell_type": "code",
   "execution_count": null,
   "metadata": {},
   "outputs": [],
   "source": [
    "# Initialise a Black-Scholes Merton Model class, adding the required parameters\n",
    "''' \n",
    "    S = current stock price\n",
    "    K = strike price\n",
    "    r = risk-free interest rate\n",
    "    T = time to maturity\n",
    "    sigma = volatility\n",
    "    q = divident yield\n",
    "'''\n",
    "class BSMModel:\n",
    "    def __init__(self, S, K, r, T, sigma, q=0):\n",
    "        self.S = S\n",
    "        self.K = K\n",
    "        self.T = T\n",
    "        self.r = r \n",
    "        self.sigma = sigma\n",
    "        self.q = q\n",
    "        \n",
    "    def d1(self):\n",
    "        return (np.log(self.S/self.K) + (self.r -self.q + self.sigma**2/2)*self.T)/(self.sigma*np.sqrt(self.T))\n",
    "    \n",
    "    def d2(self):\n",
    "        return self.d1() - self.sigma*np.sqrt(self.T)\n",
    "    \n",
    "    # Calculates call value\n",
    "    def _call_value(self):\n",
    "        return self.S*np.exp(-self.q*self.T)*norm.cdf(self.d1(),0,1) - self.K*np.exp(-self.r*self.T) * norm.cdf(self.d2(),0,1)\n",
    "\n",
    "    # Calculates put value                \n",
    "    def _put_value(self):\n",
    "        return self.K*np.exp(-self.r*self.T)*norm.cdf(-self.d2(),0,1) - self.S*np.exp(-self.q*self.T)*norm.cdf(-self.d1(),0,1)\n",
    "    \n",
    "    # Calculates the call or put value of the option\n",
    "    def price(self, type_ = \"C\"):\n",
    "        try:\n",
    "            if type_ == \"C\":\n",
    "                return self._call_value()\n",
    "            elif type_ == \"P\":\n",
    "                return self._put_value() \n",
    "            elif type_ == \"B\":\n",
    "                return  {\"call\": self._call_value(), \"put\": self._put_value()}\n",
    "        except TypeError:\n",
    "            print(\"Unrecognized type\")\n",
    "        return None\n",
    "\n",
    "    # Option Greeks\n",
    "\n",
    "    def delta(self, type_ = \"C\"):\n",
    "        if type_ not in [\"C\", \"P\", \"B\"]:\n",
    "            print(\"Unrecognized type\")\n",
    "            return None\n",
    "    \n",
    "        if type_ == \"C\":\n",
    "            return self._call_value()\n",
    "        elif type_ == \"P\":\n",
    "            return self._put_value() \n",
    "        elif type_ == \"B\":\n",
    "            return {\"call\": self._call_value(), \"put\": self._put_value()}\n",
    "\n",
    "    def gamma(self):\n",
    "        gamma = norm.pdf(self.d1(), 0, 1)/ (self.S * self.sigma * np.sqrt(self.T))\n",
    "        return gamma\n",
    "       \n",
    "    def theta(self, type_ = \"C\"):\n",
    "        if type_ not in [\"C\", \"P\"]:\n",
    "            print(\"Unrecognized type\")\n",
    "            return None\n",
    "        \n",
    "        if type_ == \"C\":\n",
    "            theta = - ((self.S * norm.pdf(self.d1(), 0, 1) * self.sigma) / (2 * np.sqrt(self.T))) - self.r * self.K * np.exp(-self.r*self.T) * norm.cdf(self.d2(), 0, 1)\n",
    "\n",
    "        elif type_ == \"P\":\n",
    "            theta = - ((self.S * norm.pdf(self.d1(), 0, 1) * self.sigma) / (2 * np.sqrt(self.T))) + self.r * self.K * np.exp(-self.r*self.T) * norm.cdf(-self.d2(), 0, 1)\n",
    "        return theta/365\n",
    "      \n",
    "    def vega(self):\n",
    "        vega = self.S * np.sqrt(T) * norm.pdf(self.d1(), 0, 1) * 0.01\n",
    "        return vega\n",
    "\n",
    "    def rho(self, type_ = \"C\"):\n",
    "        if type_ not in [\"C\", \"P\"]:\n",
    "            print(\"Unrecognized type\")\n",
    "            return None\n",
    "        if type_ == \"C\":\n",
    "            rho = 0.01 * self.K * self.T * np.exp(-self.r*self.T) * norm.cdf(self.d2(), 0, 1)\n",
    "        elif type_ == \"P\":\n",
    "            rho = 0.01 * -self.K * self.T * np.exp(-self.r*self.T) * norm.cdf(-self.d2(), 0, 1)\n",
    "        return rho\n",
    "\n",
    "    def __str__(self):\n",
    "        return f\"BSMModel(S={self.S}, K={self.K}, r={self.r}, T={self.T}, sigma={self.sigma}, q={self.q})\"\n",
    "    "
   ]
  },
  {
   "cell_type": "markdown",
   "metadata": {},
   "source": [
    "### User defined global functions"
   ]
  },
  {
   "cell_type": "markdown",
   "metadata": {},
   "source": [
    "The function below generates a geometric random walk (monte carlo simulation)  \n",
    "The value that this converges to should converge to the Black-Scholes model value as the N becomes arbitrarily large"
   ]
  },
  {
   "cell_type": "code",
   "execution_count": null,
   "metadata": {},
   "outputs": [],
   "source": [
    "def geo_mc_randomwalk(S, T, r, q, sigma, steps, N):\n",
    "    \"\"\"\n",
    "    #S = Current stock Price\n",
    "    #K = Strike Price\n",
    "    #T = Time to maturity in years\n",
    "    #r = risk free interest rate\n",
    "    #q = dividend yield\n",
    "    # sigma = volatility \n",
    "    \"\"\"\n",
    "    dt = T/steps\n",
    "    \n",
    "    ST = np.log(S) + np.cumsum(((r - q - sigma**2/2)*dt + sigma*np.sqrt(dt) * np.random.normal(size=(steps,N))),axis=0)\n",
    "\n",
    "    return np.exp(ST)"
   ]
  },
  {
   "cell_type": "markdown",
   "metadata": {},
   "source": [
    "### Main Function"
   ]
  },
  {
   "cell_type": "code",
   "execution_count": null,
   "metadata": {},
   "outputs": [],
   "source": [
    "if __name__ == \"__main__\":\n",
    "    # Set values for S,K,r,T,q,sigma to test the model\n",
    "    S = 100\n",
    "    K = 110\n",
    "    r = 0.05\n",
    "    T = 0.5\n",
    "    q = 0\n",
    "    sigma = 0.25\n",
    "\n",
    "    steps = 100\n",
    "    N1 = 1000\n",
    "    N2 = 100000\n",
    "    \n",
    "    # Test the model with the prior declared values\n",
    "    test_model = BSMModel(S, K, r, T, sigma)\n",
    "\n",
    "    print(test_model)\n",
    "    print(test_model.price(type_ = \"B\"))\n",
    "    print(f'delta is: {test_model.delta()}')\n",
    "    print(f'gamma is: {test_model.gamma()}')\n",
    "    print(f'theta is: {test_model.theta()}')\n",
    "    print(f'vega is: {test_model.vega()}')\n",
    "    print(f'rho is: {test_model.rho()}')\n",
    "\n",
    "    paths1 = geo_mc_randomwalk(S,T,r, q,sigma,steps,N1)\n",
    "    paths2 = geo_mc_randomwalk(S,T,r, q,sigma,steps,N2)\n",
    "    \n",
    "    plt.plot(paths1, color='k')  # Set line color to black for grayscale\n",
    "    plt.xlabel(\"Time Increments\")\n",
    "    plt.ylabel(\"Stock Price\")\n",
    "    plt.title(\"Geometric Brownian Motion\")\n",
    "    plt.show()\n",
    "\n",
    "    BSM_price = test_model._call_value()\n",
    "    payoffs1 = np.maximum(paths1[-1]-K, 0)\n",
    "    option_price1 = np.mean(payoffs1)*np.exp(-r*T)\n",
    "    epsilon1 = np.abs(BSM_price - option_price1)\n",
    "\n",
    "    payoffs2 = np.maximum(paths2[-1]-K, 0)\n",
    "    option_price2 = np.mean(payoffs2)*np.exp(-r*T)\n",
    "    epsilon2 = np.abs(BSM_price - option_price2)\n",
    "\n",
    "    print(f\"Black Scholes Call Price is {BSM_price}\")\n",
    "    print(f\"Simulated markov chain price with 1000 steps is {option_price1}\")\n",
    "    print(f\"Simulated markov chain price with 10 000 steps is {option_price2}\")\n",
    "    print(f\"\\nThe difference between between BSM call price and simulation is: {epsilon1} for 1000 step\")\n",
    "    print(f\"The difference between between BSM call price and simulation is: {epsilon2} for 10 000 step\")"
   ]
  }
 ],
 "metadata": {
  "language_info": {
   "name": "python"
  }
 },
 "nbformat": 4,
 "nbformat_minor": 2
}
